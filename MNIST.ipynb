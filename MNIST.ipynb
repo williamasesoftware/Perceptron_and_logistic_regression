{
 "cells": [
  {
   "attachments": {},
   "cell_type": "markdown",
   "metadata": {},
   "source": [
    "### MNIST with 2 classes"
   ]
  },
  {
   "attachments": {},
   "cell_type": "markdown",
   "metadata": {},
   "source": [
    "#### Logistic Regression"
   ]
  },
  {
   "cell_type": "code",
   "execution_count": 1,
   "metadata": {},
   "outputs": [],
   "source": [
    "#Packages\n",
    "\n",
    "from sklearn.datasets import load_digits\n",
    "import numpy as np\n",
    "import pandas as pd\n",
    "import matplotlib.pyplot as plt"
   ]
  },
  {
   "cell_type": "code",
   "execution_count": 4,
   "metadata": {},
   "outputs": [],
   "source": [
    "# Load class of the MNIST dataset\n",
    "mnist = load_digits()\n",
    "\n",
    "# Data: Characteristics\n",
    "data=pd.DataFrame(mnist.data)\n",
    "# Ground truth of the data\n",
    "Ground_truth=pd.DataFrame(mnist.target)"
   ]
  },
  {
   "attachments": {},
   "cell_type": "markdown",
   "metadata": {},
   "source": [
    "### Manual\n"
   ]
  },
  {
   "cell_type": "code",
   "execution_count": 29,
   "metadata": {},
   "outputs": [
    {
     "name": "stdout",
     "output_type": "stream",
     "text": [
      "Accuracy: 0.9907407407407407\n"
     ]
    }
   ],
   "source": [
    "import numpy as np\n",
    "from sklearn.datasets import load_digits\n",
    "from sklearn.model_selection import train_test_split\n",
    "from sklearn.metrics import accuracy_score\n",
    "\n",
    "# Load MNIST dataset\n",
    "mnist = load_digits()\n",
    "\n",
    "# Define the classes to classify (in this case, 1 and 2)\n",
    "class_1 = 1\n",
    "class_2 = 2\n",
    "\n",
    "# Create a binary classification dataset by selecting only the rows that correspond to class 1 and 2\n",
    "binary_data = mnist.data[(mnist.target == class_1) | (mnist.target == class_2)]\n",
    "binary_target = mnist.target[(mnist.target == class_1) | (mnist.target == class_2)]\n",
    "binary_target = (binary_target == class_1).astype(int)  # Convert the labels to 0 or 1\n",
    "\n",
    "# Split the data into training and test sets\n",
    "X_train, X_test, y_train, y_test = train_test_split(binary_data, binary_target, test_size=0.3, random_state=42)\n",
    "\n",
    "# Add a bias term to the input data\n",
    "X_train = np.hstack((X_train, np.ones((X_train.shape[0], 1))))\n",
    "X_test = np.hstack((X_test, np.ones((X_test.shape[0], 1))))\n",
    "\n",
    "# Initialize the parameters\n",
    "theta = np.zeros(X_train.shape[1])\n",
    "\n",
    "# Set the learning rate and the number of iterations\n",
    "alpha = 0.0001\n",
    "num_iters = 100\n",
    "\n",
    "# Train the model\n",
    "for i in range(num_iters):\n",
    "    # Compute the gradient\n",
    "    h = X_train @ theta\n",
    "    grad = (1/X_train.shape[0]) * X_train.T @ (h - y_train)\n",
    "    \n",
    "    # Update the parameters\n",
    "    theta = theta - alpha * grad\n",
    "\n",
    "# Make predictions on the test set\n",
    "y_pred = (X_test @ theta >= 0.5).astype(int)\n",
    "\n",
    "# Evaluate the model on the test set\n",
    "accuracy = accuracy_score(y_test, y_pred)\n",
    "print(\"Accuracy:\", accuracy)\n",
    "\n"
   ]
  },
  {
   "attachments": {},
   "cell_type": "markdown",
   "metadata": {},
   "source": [
    "### Library"
   ]
  },
  {
   "cell_type": "code",
   "execution_count": 13,
   "metadata": {},
   "outputs": [
    {
     "name": "stdout",
     "output_type": "stream",
     "text": [
      "Accuracy: 1.0\n",
      "[0 1 1 0 1 0 1 1 1 1 1 0 1 1 0 0 0 0 1 1 1 0 0 0 1 0 0 0 0 0 1 0 1 0 1 0 0\n",
      " 0 0 0 1 1 1 1 1 1 0 0 0 1 1 0 0 1 1 1 1 0 1 1 1 0 0 0 0 0 1 0 0 0 0 0 0]\n"
     ]
    }
   ],
   "source": [
    "from sklearn.datasets import load_digits\n",
    "from sklearn.linear_model import LogisticRegression\n",
    "import pandas as pd\n",
    "\n",
    "import warnings\n",
    "warnings.filterwarnings('ignore')\n",
    "\n",
    "# Load MNIST dataset\n",
    "mnist = load_digits()\n",
    "\n",
    "# Define the classes to classify (in this case, 1 and 2)\n",
    "class_1 = 1\n",
    "class_2 = 2\n",
    "\n",
    "# Create a binary classification dataset by selecting only the rows that correspond to class 1 and 2\n",
    "binary_data = mnist.data[(mnist.target == class_1) | (mnist.target == class_2)]\n",
    "binary_target = mnist.target[(mnist.target == class_1) | (mnist.target == class_2)]\n",
    "binary_target = (binary_target == class_1).astype(int)  # Convert the labels to 0 or 1\n",
    "\n",
    "# Split the data into training and test sets\n",
    "from sklearn.model_selection import train_test_split\n",
    "X_train, X_test, y_train, y_test = train_test_split(binary_data, binary_target, test_size=0.2, random_state=42)\n",
    "\n",
    "# Train a logistic regression model\n",
    "clf = LogisticRegression(random_state=42).fit(X_train, y_train)\n",
    "\n",
    "# Evaluate the model on the test set\n",
    "from sklearn.metrics import accuracy_score\n",
    "y_pred = clf.predict(X_test)\n",
    "accuracy = accuracy_score(y_test, y_pred)\n",
    "print(\"Accuracy:\", accuracy)\n"
   ]
  }
 ],
 "metadata": {
  "kernelspec": {
   "display_name": "proba",
   "language": "python",
   "name": "python3"
  },
  "language_info": {
   "codemirror_mode": {
    "name": "ipython",
    "version": 3
   },
   "file_extension": ".py",
   "mimetype": "text/x-python",
   "name": "python",
   "nbconvert_exporter": "python",
   "pygments_lexer": "ipython3",
   "version": "3.9.16"
  },
  "orig_nbformat": 4
 },
 "nbformat": 4,
 "nbformat_minor": 2
}
